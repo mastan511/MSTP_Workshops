{
 "cells": [
  {
   "cell_type": "markdown",
   "metadata": {},
   "source": [
    "### Date 17-Aug-2019\n",
    "### Day Objectives\n",
    "* Data Structers of Python\n",
    "        * List\n",
    "        * Tuples\n",
    "        * Dictionaries\n",
    "        * Problem set"
   ]
  },
  {
   "cell_type": "code",
   "execution_count": 7,
   "metadata": {},
   "outputs": [
    {
     "name": "stdout",
     "output_type": "stream",
     "text": [
      "4\n"
     ]
    },
    {
     "data": {
      "text/plain": [
       "False"
      ]
     },
     "execution_count": 7,
     "metadata": {},
     "output_type": "execute_result"
    }
   ],
   "source": [
    "# Function to generate all Perfect numbers in a given range\n",
    "# 6 - > 1,2,3==>1+2+3=6\n",
    "def isPerfect(n):\n",
    "    s = 0\n",
    "    for i in range(1,n):\n",
    "        if n%i == 0:\n",
    "            s=s+i\n",
    "    if s == n:\n",
    "        return True\n",
    "    else:\n",
    "        return False\n",
    "n = int(input())\n",
    "isPerfect(n)\n",
    "            \n",
    "\n"
   ]
  },
  {
   "cell_type": "code",
   "execution_count": 8,
   "metadata": {},
   "outputs": [
    {
     "name": "stdout",
     "output_type": "stream",
     "text": [
      "lb value 1\n",
      "ub value 100\n",
      "6 28 "
     ]
    }
   ],
   "source": [
    "def generatePerfectnumbers(lb,ub):\n",
    "    for i in range(lb,ub):\n",
    "        if isPerfect(i):\n",
    "            print(i,end = \" \")\n",
    "lb = int(input(\"lb value \"))\n",
    "ub = int(input(\"ub value \"))\n",
    "generatePerfectnumbers(lb,ub)\n",
    "\n",
    "    "
   ]
  },
  {
   "cell_type": "markdown",
   "metadata": {},
   "source": [
    "List"
   ]
  },
  {
   "cell_type": "code",
   "execution_count": 20,
   "metadata": {},
   "outputs": [
    {
     "data": {
      "text/plain": [
       "[1, 2, 'Python', 5.5, True, 'Hello', 'APSSDC']"
      ]
     },
     "execution_count": 20,
     "metadata": {},
     "output_type": "execute_result"
    }
   ],
   "source": [
    "# List is collecion of hetrogenious data\n",
    "#[] by using these brases we can create the list\n",
    "#If you want acces the eleements from the list by \n",
    "# using indexes we can access the data\n",
    "# here two types of indexing\n",
    "# 1.Positive number indexing\n",
    "# 2.Negative number idexing\n",
    "#List is a Mutable \n",
    "l = [1,2,\"Python\",5.5,True,\"Hello\"]\n",
    "l[0]#Aceesing the fisrt element from the list\n",
    "l[1]#Accessing the second element from the list\n",
    "l[-1]#Accessing the last element from the list\n",
    "l[1:-1]\n",
    "l[::-1]#Reverse the list\n",
    "l[0:-1:2]#Accessing the alternate elements\n",
    "len(l)#To find the length of the list\n",
    "l.append(\"APSSDC\")#To Appensd the values into the existed list\n",
    "l\n",
    "# l.clear()#To clear the elements from the list\n",
    "# l\n",
    "l2 = l.copy()\n",
    "l2\n",
    "\n"
   ]
  },
  {
   "cell_type": "code",
   "execution_count": 16,
   "metadata": {},
   "outputs": [
    {
     "data": {
      "text/plain": [
       "['__add__',\n",
       " '__class__',\n",
       " '__contains__',\n",
       " '__delattr__',\n",
       " '__delitem__',\n",
       " '__dir__',\n",
       " '__doc__',\n",
       " '__eq__',\n",
       " '__format__',\n",
       " '__ge__',\n",
       " '__getattribute__',\n",
       " '__getitem__',\n",
       " '__gt__',\n",
       " '__hash__',\n",
       " '__iadd__',\n",
       " '__imul__',\n",
       " '__init__',\n",
       " '__init_subclass__',\n",
       " '__iter__',\n",
       " '__le__',\n",
       " '__len__',\n",
       " '__lt__',\n",
       " '__mul__',\n",
       " '__ne__',\n",
       " '__new__',\n",
       " '__reduce__',\n",
       " '__reduce_ex__',\n",
       " '__repr__',\n",
       " '__reversed__',\n",
       " '__rmul__',\n",
       " '__setattr__',\n",
       " '__setitem__',\n",
       " '__sizeof__',\n",
       " '__str__',\n",
       " '__subclasshook__',\n",
       " 'append',\n",
       " 'clear',\n",
       " 'copy',\n",
       " 'count',\n",
       " 'extend',\n",
       " 'index',\n",
       " 'insert',\n",
       " 'pop',\n",
       " 'remove',\n",
       " 'reverse',\n",
       " 'sort']"
      ]
     },
     "execution_count": 16,
     "metadata": {},
     "output_type": "execute_result"
    }
   ],
   "source": [
    "dir(list)"
   ]
  },
  {
   "cell_type": "code",
   "execution_count": 31,
   "metadata": {},
   "outputs": [
    {
     "data": {
      "text/plain": [
       "[33, 22, 55, 6, 35]"
      ]
     },
     "execution_count": 31,
     "metadata": {},
     "output_type": "execute_result"
    }
   ],
   "source": [
    " li = [1,22,44,6,35,8]\n",
    "li.insert(1,33)\n",
    "li.insert(4,55)\n",
    "li.index(44)\n",
    "li.pop()\n",
    "li.pop(3)\n",
    "li.remove(1)\n",
    "li"
   ]
  },
  {
   "cell_type": "code",
   "execution_count": 42,
   "metadata": {},
   "outputs": [
    {
     "data": {
      "text/plain": [
       "[11, 11, 11, 20, 54, 55, 55, 80, 90]"
      ]
     },
     "execution_count": 42,
     "metadata": {},
     "output_type": "execute_result"
    }
   ],
   "source": [
    "l2 = [55,20,11,54,80,90,55,80,11,90,11]\n",
    "l2.sort()\n",
    "l2.count(54)\n",
    "max(l2)\n",
    "min(l2)\n",
    "len(l2)\n",
    "l2"
   ]
  },
  {
   "cell_type": "code",
   "execution_count": 45,
   "metadata": {},
   "outputs": [
    {
     "data": {
      "text/plain": [
       "[55, 20, 11, 54, 80, 90, 55, 80, 11, 90, 11]"
      ]
     },
     "execution_count": 45,
     "metadata": {},
     "output_type": "execute_result"
    }
   ],
   "source": [
    "l2 = [55,20,11,54,80,90,55,80,11,90,11]\n",
    "\n",
    "l2"
   ]
  },
  {
   "cell_type": "code",
   "execution_count": 56,
   "metadata": {},
   "outputs": [
    {
     "name": "stdout",
     "output_type": "stream",
     "text": [
      "[11, 20, 54, 55, 80, 90]\n",
      "55\n"
     ]
    }
   ],
   "source": [
    "def preparingUniquelist(l2):\n",
    "    unique = []\n",
    "    for i in range(len(l2)):\n",
    "        if l2[i] not in unique:\n",
    "            unique.append(l2[i])\n",
    "    unique = sorted(unique)\n",
    "    print(unique)\n",
    "    print(unique[-3])\n",
    "    \n",
    "l2 = [55,20,11,54,80,90,55,80,11,90,11]\n",
    "preparingUniquelist(l2)\n",
    "        "
   ]
  },
  {
   "cell_type": "markdown",
   "metadata": {},
   "source": [
    "### Tuples"
   ]
  },
  {
   "cell_type": "code",
   "execution_count": 58,
   "metadata": {},
   "outputs": [
    {
     "data": {
      "text/plain": [
       "(1, 2, 3, 4, 5, 6, 7)"
      ]
     },
     "execution_count": 58,
     "metadata": {},
     "output_type": "execute_result"
    }
   ],
   "source": [
    "#Tuple is a collection hetrogineous data,it is a Immutable\n",
    "#It is similar to the list but not list(list->Mutable,\n",
    "#Tuple is Immutable)\n",
    "#() by using this open brace and closing brace \n",
    "#we can identify the tuple\n",
    "t = 1,2,3,4,\"APSSDC\"\n",
    "t\n",
    "tp= (1,2,3,4,5,6,7)\n",
    "tp"
   ]
  },
  {
   "cell_type": "code",
   "execution_count": 71,
   "metadata": {},
   "outputs": [
    {
     "data": {
      "text/plain": [
       "7"
      ]
     },
     "execution_count": 71,
     "metadata": {},
     "output_type": "execute_result"
    }
   ],
   "source": [
    "t = (1,2,3,4,5,6,7)\n",
    "t1 = ('a','b','c','d','e')\n",
    "t[2]#By using index we can access the tuple items\n",
    "t[::-1]\n",
    "tp = t+t1#Concatinating the two tuples\n",
    "len(t)\n",
    "min(t)\n",
    "max(t)\n"
   ]
  },
  {
   "cell_type": "code",
   "execution_count": 72,
   "metadata": {},
   "outputs": [
    {
     "data": {
      "text/plain": [
       "3"
      ]
     },
     "execution_count": 72,
     "metadata": {},
     "output_type": "execute_result"
    }
   ],
   "source": [
    "t = (4,3,4,5,4,6,7,6,6)\n",
    "t.count(4)"
   ]
  },
  {
   "cell_type": "code",
   "execution_count": 73,
   "metadata": {},
   "outputs": [],
   "source": [
    "#l = [10,44,66,88,\"APSSDC\",\"Hello\",\"Python\",899]\n",
    "# findElement(list,searchingelement):\n",
    "#     If the user value exist print that value\n",
    "#     If user value deos not exist return -1\n",
    "\n",
    "\n",
    "# Build the functions for all arthematic operations(+,-,*,//,%)\n",
    "# and Create a one calculator aapplication\n",
    "#add()->1\n",
    "#sub()->2\n",
    "#multiplacation()->3\n",
    "#division()->4\n",
    "#mDivision()->5\n",
    "#select the choice:\n",
    "#1. Addition\n",
    "# 2.Substraction\n",
    "# 3.Multiplication\n",
    "# a value\n",
    "# b value\n",
    "# 1\n",
    "\n",
    "\n",
    "\n",
    "\n",
    "\n",
    "\n",
    "\n"
   ]
  },
  {
   "cell_type": "code",
   "execution_count": 79,
   "metadata": {},
   "outputs": [
    {
     "name": "stdout",
     "output_type": "stream",
     "text": [
      "55\n"
     ]
    },
    {
     "data": {
      "text/plain": [
       "-1"
      ]
     },
     "execution_count": 79,
     "metadata": {},
     "output_type": "execute_result"
    }
   ],
   "source": [
    "#l = [10,44,66,88,\"APSSDC\",\"Hello\",\"Python\",899]\n",
    "899\n",
    "# findElement(list,searchingelement):\n",
    "#     If the user value exist print that value\n",
    "#     If user value deos not exist return -1\n",
    "\n",
    "def findElement(li,se):\n",
    "    if se in li:\n",
    "        print(se)\n",
    "        \n",
    "    else:\n",
    "        return -1\n",
    "            \n",
    "l = [10,44,66,88,33,899]\n",
    "se = int(input())\n",
    "findElement(l,se)\n",
    "    "
   ]
  },
  {
   "cell_type": "code",
   "execution_count": 83,
   "metadata": {
    "scrolled": true
   },
   "outputs": [
    {
     "data": {
      "text/plain": [
       "6"
      ]
     },
     "execution_count": 83,
     "metadata": {},
     "output_type": "execute_result"
    }
   ],
   "source": [
    "l = [2,3,4,5]\n",
    "sum(l)\n",
    "tu = (1,2,3)\n",
    "sum(tu)\n",
    "    \n"
   ]
  },
  {
   "cell_type": "code",
   "execution_count": 87,
   "metadata": {},
   "outputs": [
    {
     "name": "stdout",
     "output_type": "stream",
     "text": [
      "Enter a value : 3\n",
      "Enter b value : 4\n",
      "Select your choice : 1.Add \n",
      " 2.Sub \n",
      " 3.Multiplication \n",
      " 4.Division \n",
      " 5.modularDivision \n",
      " \n",
      "3\n",
      "12\n"
     ]
    }
   ],
   "source": [
    "def add(a,b):\n",
    "    return a+b\n",
    "def sub(a,b):\n",
    "    return a-b\n",
    "def multiplication(a,b):\n",
    "    return a*b\n",
    "def division(a,b):\n",
    "    return a//b\n",
    "def mDivision(a,b):\n",
    "    return a%b\n",
    "def CalApp(a,b,ch):\n",
    "    if ch == 1:\n",
    "        res = add(a,b)\n",
    "        print(res)\n",
    "    elif ch == 2:\n",
    "        res = sub(a,b)\n",
    "        print(res)\n",
    "    elif ch == 3:\n",
    "        res = multiplication(a,b)\n",
    "        print(res)\n",
    "    elif ch == 4:\n",
    "        res = divivsion(a,b)\n",
    "        print(res)\n",
    "    elif ch == 5:\n",
    "        res = mDivision(a,b)\n",
    "        print(res)\n",
    "    else:\n",
    "        print(\"Invalid Choice \")\n",
    "a = int(input(\"Enter a value : \")) \n",
    "b = int(input(\"Enter b value : \")) \n",
    "print(\"Select your choice : 1.Add \\n 2.Sub \\n 3.Multiplication \\n 4.Division \\n 5.modularDivision \\n \")\n",
    "ch = int(input())\n",
    "CalApp(a,b,ch)\n",
    "\n",
    "    "
   ]
  },
  {
   "cell_type": "code",
   "execution_count": null,
   "metadata": {},
   "outputs": [],
   "source": []
  }
 ],
 "metadata": {
  "kernelspec": {
   "display_name": "Python 3",
   "language": "python",
   "name": "python3"
  },
  "language_info": {
   "codemirror_mode": {
    "name": "ipython",
    "version": 3
   },
   "file_extension": ".py",
   "mimetype": "text/x-python",
   "name": "python",
   "nbconvert_exporter": "python",
   "pygments_lexer": "ipython3",
   "version": "3.7.3"
  }
 },
 "nbformat": 4,
 "nbformat_minor": 2
}
