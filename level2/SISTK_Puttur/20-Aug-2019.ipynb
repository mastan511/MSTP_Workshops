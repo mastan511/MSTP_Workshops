{
 "cells": [
  {
   "cell_type": "code",
   "execution_count": 1,
   "metadata": {},
   "outputs": [],
   "source": [
    "contacts={}"
   ]
  },
  {
   "cell_type": "code",
   "execution_count": 3,
   "metadata": {},
   "outputs": [],
   "source": [
    "# Function to add new Contact\n",
    "\n",
    "def addContact():\n",
    "    name = input(\"Name: \")\n",
    "    contact_details=[]\n",
    "    number=int(input(\"Enter Nuber: \"))\n",
    "    email = input(\"Enter E-mail: \")\n",
    "    \n",
    "    contact_details.append(number)\n",
    "    contact_details.append(email)\n",
    "    \n",
    "    if name in contacts:\n",
    "        print(\"Contact is Exists.\")\n",
    "    else:\n",
    "        contacts[name]=contact_details\n",
    "        print(\"Contact Added...\")   \n",
    "    "
   ]
  },
  {
   "cell_type": "code",
   "execution_count": 6,
   "metadata": {
    "scrolled": true
   },
   "outputs": [
    {
     "name": "stdout",
     "output_type": "stream",
     "text": [
      "Name: Siva\n",
      "Enter Nuber: 98765345678\n",
      "Enter E-mail: sdfkjashd@gmail.com\n",
      "Contact is Exists.\n"
     ]
    }
   ],
   "source": [
    "addContact()"
   ]
  },
  {
   "cell_type": "code",
   "execution_count": 10,
   "metadata": {},
   "outputs": [
    {
     "data": {
      "text/plain": [
       "{'Siva': [9876543210, 'sivasistkhod@gmail.com']}"
      ]
     },
     "execution_count": 10,
     "metadata": {},
     "output_type": "execute_result"
    }
   ],
   "source": [
    "contacts"
   ]
  },
  {
   "cell_type": "code",
   "execution_count": 14,
   "metadata": {},
   "outputs": [],
   "source": [
    "# Function to search a Contact\n",
    "def searchContact():\n",
    "    name = input(\"Enter name that you want to search in Contacts: \")\n",
    "    if name in contacts:\n",
    "        print(\"Exists\")\n",
    "        print(name)\n",
    "        li = []\n",
    "        li = contacts[name]\n",
    "        print(\"\\t\",li[0])\n",
    "        print(\"\\t\",li[1])\n",
    "    else:\n",
    "        print(\"Not Exists\")"
   ]
  },
  {
   "cell_type": "code",
   "execution_count": 15,
   "metadata": {},
   "outputs": [
    {
     "name": "stdout",
     "output_type": "stream",
     "text": [
      "Enter name that you want to search in Contacts: Siva\n",
      "Exists\n",
      "Siva\n",
      "\t 9876543210\n",
      "\t sivasistkhod@gmail.com\n"
     ]
    }
   ],
   "source": [
    "searchContact()"
   ]
  },
  {
   "cell_type": "markdown",
   "metadata": {},
   "source": [
    "# Task: Contact Application"
   ]
  },
  {
   "cell_type": "markdown",
   "metadata": {},
   "source": [
    "- Create A method(contactsApp()) that executes  the following menu infinite times.\n",
    "    - 1.Add Contact\n",
    "        - User has enter name,mobile number\n",
    "    - 2.Search For Contact\n",
    "        - User has to enter name,based on the name search for contact\n",
    "    - 3.Update Contact\n",
    "        - User has to enter name and based on the name update the contact\n",
    "    - 4.Delete Contact\n",
    "        - User has to enter name ,based on the name delete the contact\n",
    "    - 5.List All Contacts\n",
    "        - Print all contacts in the below format\n",
    "            Name         Number    e\n",
    "            --------------------\n",
    "            Mastan       9988998877\n",
    "            .\n",
    "            .\n",
    "            .\n",
    "    - 6.Exit App\n",
    "        - When the user selects this option exit tha app\n"
   ]
  },
  {
   "cell_type": "markdown",
   "metadata": {},
   "source": [
    "# Regular Expressions\n",
    "\n",
    "- []-square braces or square brackets\n",
    "     - defining the char set\n",
    "- ^ - starts with\n",
    "- $ - ends with\n",
    "- {}- Range set\n",
    "- * - multiplication\n",
    "- a-z - char from a to z\n",
    "- A-Z - chat from A to Z\n",
    "- 0-9 - digit from 0 to 9\n"
   ]
  },
  {
   "cell_type": "code",
   "execution_count": null,
   "metadata": {},
   "outputs": [],
   "source": [
    "# a three number starts with 2 and ends with 4\n",
    "# ex:254,274,294....\n",
    "# Solution: ^[2][0-9][4]$\n",
    "\n",
    "\n",
    "#Task-2:\n",
    "# a 5 digit number \n",
    "# 1.third digit should be 0\n",
    "# 2.first digit should be prime nuber\n",
    "# 3.last digit should be 7\n",
    "# Ex: 23057,71037\n",
    "\n",
    "# Task-3:\n",
    "# any number\n",
    "# if it is even highlight it\n",
    "# ex:123456780,987654312345678976542345678\n",
    "\n",
    "# Task-4:\n",
    "# Mobile number validation\n",
    "# 1.mobile number should be 10 digits\n",
    "# 2.Number starts with 6,7,8 or 9\n",
    "# 3.No Special characters\n",
    "# 4.Number starts with +91\n",
    "# 5.Number starts with 0\n",
    "# Ex: +918978532078\n",
    "#      8978532078\n",
    "#     09878486878\n",
    "      \n",
    "example@gmail.com\n",
    "\n",
    "example - username\n",
    "com- extension\n",
    "gmail-domain\n",
    "\n",
    "User Name:\n",
    "1.user name can starts with a number\n",
    "                            a character\n",
    "2.user name length shoud be 8-15\n",
    "3.in b/w u can take special char,digits,char\n",
    "\n",
    "Domain:\n",
    "1.domain should only contains char\n",
    "2.range should be 3-6\n",
    "\n",
    "Extension:\n",
    "1.range is 2-3 char\n",
    "2.extension should only contains char\n",
    "\n",
    "\n",
    "                            \n",
    "\n",
    "\n",
    "\n",
    "# Sol:1\n",
    "# ^[6789][0-9][0-9][0-9][0-9][0-9][0-9][0-9][0-9][0-9]\n",
    "# ^[6-9][0-9]{9}\n",
    "\n",
    "\n",
    "\n",
    "# Task-5:\n",
    "# Email id Validation\n",
    "\n",
    "\n",
    "\n"
   ]
  },
  {
   "cell_type": "markdown",
   "metadata": {},
   "source": [
    "#  Modules and Packages\n"
   ]
  },
  {
   "cell_type": "code",
   "execution_count": null,
   "metadata": {},
   "outputs": [],
   "source": [
    "import math"
   ]
  },
  {
   "cell_type": "code",
   "execution_count": null,
   "metadata": {},
   "outputs": [],
   "source": []
  },
  {
   "cell_type": "code",
   "execution_count": null,
   "metadata": {},
   "outputs": [],
   "source": []
  }
 ],
 "metadata": {
  "kernelspec": {
   "display_name": "Python 3",
   "language": "python",
   "name": "python3"
  },
  "language_info": {
   "codemirror_mode": {
    "name": "ipython",
    "version": 3
   },
   "file_extension": ".py",
   "mimetype": "text/x-python",
   "name": "python",
   "nbconvert_exporter": "python",
   "pygments_lexer": "ipython3",
   "version": "3.7.3"
  }
 },
 "nbformat": 4,
 "nbformat_minor": 2
}
