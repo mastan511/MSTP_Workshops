{
 "cells": [
  {
   "cell_type": "markdown",
   "metadata": {},
   "source": [
    "### Date: 16-Aug-2019\n",
    "### Day Objectives\n",
    "#### YesterDay Problem set\n",
    "#### Strings\n",
    "#### Functions"
   ]
  },
  {
   "cell_type": "code",
   "execution_count": 1,
   "metadata": {},
   "outputs": [],
   "source": [
    "# Check the given year is a Leap year or not \n",
    "# Check if the number exist in a given range (inputs: number(n), range(lower number and upper number) \n",
    "# Check the number of digits in a given number\n",
    "# Check if the given number is a factor of 1000 \n",
    "# Calculate the square root of a given number \n"
   ]
  },
  {
   "cell_type": "code",
   "execution_count": 5,
   "metadata": {},
   "outputs": [
    {
     "name": "stdout",
     "output_type": "stream",
     "text": [
      "1900\n",
      "1900  is not a leap year\n"
     ]
    }
   ],
   "source": [
    "# Check the given year is a Leap year or not\n",
    "# year%400 == 0 or(year%100!=0 and year%4==0)\n",
    "year = int(input())\n",
    "if year%400 == 0 or(year%100!=0 and year%4==0):\n",
    "    print(year,\" is leap year\")\n",
    "else:\n",
    "    print(year,\" is not a leap year\")\n"
   ]
  },
  {
   "cell_type": "code",
   "execution_count": 7,
   "metadata": {},
   "outputs": [
    {
     "name": "stdout",
     "output_type": "stream",
     "text": [
      "11\n",
      "Not Existed\n"
     ]
    }
   ],
   "source": [
    "# Check if the number exist in a given range (inputs: number(n), range(lower number and upper number) \n",
    "# 1,10\n",
    "# 11\n",
    "n = int(input())\n",
    "if n in range(1,10):\n",
    "    print(\"The number is existed in between 1,10\")\n",
    "else:\n",
    "    print(\"Not Existed\")\n",
    "\n"
   ]
  },
  {
   "cell_type": "code",
   "execution_count": 6,
   "metadata": {},
   "outputs": [
    {
     "name": "stdout",
     "output_type": "stream",
     "text": [
      "14567\n",
      "5\n"
     ]
    }
   ],
   "source": [
    "# Check the number of digits in a given number\n",
    "# 123\n",
    "# 3\n",
    "# 14567\n",
    "# 5\n",
    "n = int(input())\n",
    "count = 0\n",
    "while n>0:\n",
    "    count=count+1\n",
    "    n = n//10\n",
    "print(count)\n",
    "    \n",
    "\n",
    "\n"
   ]
  },
  {
   "cell_type": "code",
   "execution_count": 10,
   "metadata": {},
   "outputs": [
    {
     "name": "stdout",
     "output_type": "stream",
     "text": [
      "10\n",
      "10  is factor of 1000\n"
     ]
    }
   ],
   "source": [
    "#Check if the given number is a factor of 1000 \n",
    "n = int(input())\n",
    "if 1000%n == 0:\n",
    "    print(n,\" is factor of 1000\")\n",
    "else:\n",
    "    print(n,\" not a factor of 1000\")"
   ]
  },
  {
   "cell_type": "code",
   "execution_count": 11,
   "metadata": {},
   "outputs": [
    {
     "name": "stdout",
     "output_type": "stream",
     "text": [
      "5\n",
      "25\n"
     ]
    }
   ],
   "source": [
    "# Calculate the square root of a given number \n",
    "#5**2 == 25\n",
    "n = int(input())\n",
    "print(n**2)\n"
   ]
  },
  {
   "cell_type": "markdown",
   "metadata": {},
   "source": [
    "### Strings"
   ]
  },
  {
   "cell_type": "code",
   "execution_count": 33,
   "metadata": {
    "scrolled": true
   },
   "outputs": [
    {
     "data": {
      "text/plain": [
       "'dlroW nohtyp'"
      ]
     },
     "execution_count": 33,
     "metadata": {},
     "output_type": "execute_result"
    }
   ],
   "source": [
    "s = \"python World\"\n",
    "s[0]#It gives first letter of string\n",
    "s[1]#It gives second letter of the string\n",
    "s[-1]#It gives last letter of the string\n",
    "s[1:-1]#Lower bound inclusive upperbound is Exclusive\n",
    "s[0:5:2]\n",
    "len(s)#It gives String length\n",
    "s[::-1]#It gives reverse of the string"
   ]
  },
  {
   "cell_type": "code",
   "execution_count": 34,
   "metadata": {},
   "outputs": [
    {
     "name": "stdout",
     "output_type": "stream",
     "text": [
      "eye\n",
      "eye  is palindrome\n"
     ]
    }
   ],
   "source": [
    "#Check the given string is palindrome or not\n",
    "#eye - palindrome\n",
    "#malayalam-Palindrome\n",
    "s = input()\n",
    "rs = s[::-1]\n",
    "if s == rs:\n",
    "    print(s,\" is palindrome\")\n",
    "else:\n",
    "    print(s,\" is not palindrome\")\n"
   ]
  },
  {
   "cell_type": "code",
   "execution_count": 53,
   "metadata": {},
   "outputs": [
    {
     "name": "stdout",
     "output_type": "stream",
     "text": [
      "h\n"
     ]
    }
   ],
   "source": [
    "#s = python\n",
    "#print the middle charatcters of a string\n",
    "#output = th\n",
    "\n",
    "s = 'pythonm'\n",
    "l = len(s)\n",
    "if l%2 == 0:\n",
    "    print((s[(len(s)//2)-1]),s[len(s)//2])\n",
    "else:\n",
    "    print(s[len(s)//2])"
   ]
  },
  {
   "cell_type": "code",
   "execution_count": 56,
   "metadata": {},
   "outputs": [
    {
     "data": {
      "text/plain": [
       "['__add__',\n",
       " '__class__',\n",
       " '__contains__',\n",
       " '__delattr__',\n",
       " '__dir__',\n",
       " '__doc__',\n",
       " '__eq__',\n",
       " '__format__',\n",
       " '__ge__',\n",
       " '__getattribute__',\n",
       " '__getitem__',\n",
       " '__getnewargs__',\n",
       " '__gt__',\n",
       " '__hash__',\n",
       " '__init__',\n",
       " '__init_subclass__',\n",
       " '__iter__',\n",
       " '__le__',\n",
       " '__len__',\n",
       " '__lt__',\n",
       " '__mod__',\n",
       " '__mul__',\n",
       " '__ne__',\n",
       " '__new__',\n",
       " '__reduce__',\n",
       " '__reduce_ex__',\n",
       " '__repr__',\n",
       " '__rmod__',\n",
       " '__rmul__',\n",
       " '__setattr__',\n",
       " '__sizeof__',\n",
       " '__str__',\n",
       " '__subclasshook__',\n",
       " 'capitalize',\n",
       " 'casefold',\n",
       " 'center',\n",
       " 'count',\n",
       " 'encode',\n",
       " 'endswith',\n",
       " 'expandtabs',\n",
       " 'find',\n",
       " 'format',\n",
       " 'format_map',\n",
       " 'index',\n",
       " 'isalnum',\n",
       " 'isalpha',\n",
       " 'isascii',\n",
       " 'isdecimal',\n",
       " 'isdigit',\n",
       " 'isidentifier',\n",
       " 'islower',\n",
       " 'isnumeric',\n",
       " 'isprintable',\n",
       " 'isspace',\n",
       " 'istitle',\n",
       " 'isupper',\n",
       " 'join',\n",
       " 'ljust',\n",
       " 'lower',\n",
       " 'lstrip',\n",
       " 'maketrans',\n",
       " 'partition',\n",
       " 'replace',\n",
       " 'rfind',\n",
       " 'rindex',\n",
       " 'rjust',\n",
       " 'rpartition',\n",
       " 'rsplit',\n",
       " 'rstrip',\n",
       " 'split',\n",
       " 'splitlines',\n",
       " 'startswith',\n",
       " 'strip',\n",
       " 'swapcase',\n",
       " 'title',\n",
       " 'translate',\n",
       " 'upper',\n",
       " 'zfill']"
      ]
     },
     "execution_count": 56,
     "metadata": {},
     "output_type": "execute_result"
    }
   ],
   "source": [
    "dir(str)"
   ]
  },
  {
   "cell_type": "code",
   "execution_count": 82,
   "metadata": {},
   "outputs": [
    {
     "data": {
      "text/plain": [
       "['Hello', 'World', 'APSSDC']"
      ]
     },
     "execution_count": 82,
     "metadata": {},
     "output_type": "execute_result"
    }
   ],
   "source": [
    "s = \"Hello-World-APSSDC\"\n",
    "s2 = s.split(\"-\")\n",
    "s2"
   ]
  },
  {
   "cell_type": "code",
   "execution_count": 89,
   "metadata": {},
   "outputs": [
    {
     "name": "stdout",
     "output_type": "stream",
     "text": [
      "Problem Solving Using Python\n",
      "['Problem', 'Solving', 'Using', 'Python']\n"
     ]
    },
    {
     "data": {
      "text/plain": [
       "'ProblemSolvingUsingPython'"
      ]
     },
     "execution_count": 89,
     "metadata": {},
     "output_type": "execute_result"
    }
   ],
   "source": [
    "# Take a string “Problem Solving Using Python” \n",
    "# Find the length of the string \n",
    "# Change the string to lowercase \n",
    "# Print the string in reverse order \n",
    "# Split the string\n",
    "# Print the string without spaces \n",
    "# Find how many times “s” is repeated in a given string\n",
    "s = \"Problem Solving Using Python\" \n",
    "print(s)\n",
    "len(s)\n",
    "s.lower()\n",
    "s[::-1]\n",
    "s2 = s.split(\" \")\n",
    "print(s2)\n",
    "s2 = \"\".join(s2)\n",
    "s2\n",
    "\n",
    "\n",
    "\n",
    "\n",
    "\n",
    "\n"
   ]
  },
  {
   "cell_type": "code",
   "execution_count": 91,
   "metadata": {},
   "outputs": [
    {
     "data": {
      "text/plain": [
       "'python'"
      ]
     },
     "execution_count": 91,
     "metadata": {},
     "output_type": "execute_result"
    }
   ],
   "source": [
    "s = \"p-y-t-h-o-n\"\n",
    "s = s.split(\"-\")\n",
    "s = \"\".join(s)\n",
    "s"
   ]
  },
  {
   "cell_type": "markdown",
   "metadata": {},
   "source": [
    "### Functions"
   ]
  },
  {
   "cell_type": "code",
   "execution_count": 92,
   "metadata": {},
   "outputs": [
    {
     "name": "stdout",
     "output_type": "stream",
     "text": [
      "30\n"
     ]
    }
   ],
   "source": [
    "# Without arguments & without return values \n",
    "def add():\n",
    "    a = 10\n",
    "    b = 20\n",
    "    print(a+b)\n",
    "add()"
   ]
  },
  {
   "cell_type": "code",
   "execution_count": 94,
   "metadata": {},
   "outputs": [
    {
     "data": {
      "text/plain": [
       "30"
      ]
     },
     "execution_count": 94,
     "metadata": {},
     "output_type": "execute_result"
    }
   ],
   "source": [
    "#Without arguments & with return Value\n",
    "def add():\n",
    "    a = 10\n",
    "    b = 20\n",
    "    return a+b\n",
    "add()"
   ]
  },
  {
   "cell_type": "code",
   "execution_count": 96,
   "metadata": {},
   "outputs": [
    {
     "name": "stdout",
     "output_type": "stream",
     "text": [
      "30\n"
     ]
    }
   ],
   "source": [
    "#With arguments & without return values \n",
    "def add(a,b):\n",
    "    print(a+b)\n",
    "a = 10\n",
    "b = 20\n",
    "add(a,b)\n"
   ]
  },
  {
   "cell_type": "code",
   "execution_count": 101,
   "metadata": {},
   "outputs": [
    {
     "data": {
      "text/plain": [
       "70"
      ]
     },
     "execution_count": 101,
     "metadata": {},
     "output_type": "execute_result"
    }
   ],
   "source": [
    "#With arguments & return values\n",
    "def add(a,b):\n",
    "    return a+b\n",
    "# a = 40\n",
    "# b = 30\n",
    "add(40,30)"
   ]
  },
  {
   "cell_type": "code",
   "execution_count": 102,
   "metadata": {},
   "outputs": [
    {
     "name": "stdout",
     "output_type": "stream",
     "text": [
      "5\n"
     ]
    },
    {
     "data": {
      "text/plain": [
       "25"
      ]
     },
     "execution_count": 102,
     "metadata": {},
     "output_type": "execute_result"
    }
   ],
   "source": [
    "def squreroot(n):\n",
    "    return n**2\n",
    "n = int(input())\n",
    "squreroot(n)"
   ]
  },
  {
   "cell_type": "code",
   "execution_count": 104,
   "metadata": {},
   "outputs": [
    {
     "data": {
      "text/plain": [
       "50"
      ]
     },
     "execution_count": 104,
     "metadata": {},
     "output_type": "execute_result"
    }
   ],
   "source": [
    "def main(a,b):\n",
    "    return a+b\n",
    "a = 10\n",
    "b = 40\n",
    "main(a,b)"
   ]
  },
  {
   "cell_type": "code",
   "execution_count": 105,
   "metadata": {},
   "outputs": [
    {
     "name": "stdout",
     "output_type": "stream",
     "text": [
      "2000\n",
      "2000  is leap year\n"
     ]
    }
   ],
   "source": [
    "def isleap(year):\n",
    "    if year%400 == 0 or (year%100!=0 and year%4 == 0):\n",
    "        print(year,\" is leap year\")\n",
    "    else:\n",
    "        print(year,\" not a leap year\")\n",
    "y = int(input())\n",
    "isleap(y)\n",
    "    "
   ]
  },
  {
   "cell_type": "code",
   "execution_count": 107,
   "metadata": {},
   "outputs": [
    {
     "name": "stdout",
     "output_type": "stream",
     "text": [
      "123\n"
     ]
    },
    {
     "data": {
      "text/plain": [
       "False"
      ]
     },
     "execution_count": 107,
     "metadata": {},
     "output_type": "execute_result"
    }
   ],
   "source": [
    "def isExist(n):\n",
    "    if n in range(1,20):\n",
    "        return True\n",
    "    else:\n",
    "        return False\n",
    "n = int(input())\n",
    "isExist(n)"
   ]
  },
  {
   "cell_type": "code",
   "execution_count": 108,
   "metadata": {},
   "outputs": [
    {
     "name": "stdout",
     "output_type": "stream",
     "text": [
      "1234\n"
     ]
    },
    {
     "data": {
      "text/plain": [
       "4"
      ]
     },
     "execution_count": 108,
     "metadata": {},
     "output_type": "execute_result"
    }
   ],
   "source": [
    "#find the number of digits\n",
    "def countDigits(number):\n",
    "    count = 0\n",
    "    while number>0:\n",
    "        number = number//10\n",
    "        count+=1\n",
    "    return count\n",
    "n = int(input())\n",
    "countDigits(n)\n",
    "        "
   ]
  },
  {
   "cell_type": "code",
   "execution_count": 110,
   "metadata": {},
   "outputs": [
    {
     "name": "stdout",
     "output_type": "stream",
     "text": [
      "100\n",
      "100  is factor of 1000\n"
     ]
    }
   ],
   "source": [
    "#chek the given number is a factor of 1000 or not?\n",
    "def isFactorof1000(n):\n",
    "    if 1000%n == 0:\n",
    "        print(n,\" is factor of 1000\")\n",
    "    else:\n",
    "        print(n,\" not a factor of 1000\")\n",
    "n = int(input())\n",
    "isFactorof1000(n)\n",
    "    "
   ]
  },
  {
   "cell_type": "code",
   "execution_count": null,
   "metadata": {},
   "outputs": [],
   "source": [
    "#create a functio to calcuate the average \n",
    "#of in given range(1,100)(lb,ub are inclusive)\n",
    "# 12345\n",
    "#             1+2+3+4+5\n",
    "# average = ------------- \n",
    "#                 5\n",
    "\n",
    "\n",
    "\n",
    "\n",
    "#create function to check the primenumber \n",
    "\n",
    "#Create a function to calculate the average of \n",
    "#primenumbers in between 1,1000\n",
    "\n",
    "#create a function to generate all the numbers which is \n",
    "#divisible by 5 and factor of 1000 \n",
    "#in between given range(1,100)\n",
    "\n",
    "\n",
    "\n",
    "\n"
   ]
  },
  {
   "cell_type": "code",
   "execution_count": 111,
   "metadata": {},
   "outputs": [
    {
     "name": "stdout",
     "output_type": "stream",
     "text": [
      "49.0\n"
     ]
    }
   ],
   "source": [
    "#create a functio to calcuate the average \n",
    "#of in given range(1,100)(lb,ub are inclusive)\n",
    "# 12345\n",
    "#             1+2+3+4+5\n",
    "# average = ------------- \n",
    "#                 5\n",
    "def findAverage(lb,ub):\n",
    "    s = 0\n",
    "    for i in range(lb,ub):\n",
    "        s=s+i\n",
    "        avg = s/ub-1\n",
    "    print(avg)\n",
    "lb = 1\n",
    "ub = 101\n",
    "findAverage(lb,ub)\n",
    "        \n",
    "    "
   ]
  },
  {
   "cell_type": "code",
   "execution_count": 122,
   "metadata": {},
   "outputs": [
    {
     "name": "stdout",
     "output_type": "stream",
     "text": [
      "23\n"
     ]
    },
    {
     "data": {
      "text/plain": [
       "True"
      ]
     },
     "execution_count": 122,
     "metadata": {},
     "output_type": "execute_result"
    }
   ],
   "source": [
    "#create function to check the primenumber \n",
    "def isPrime(n):\n",
    "    fact = 1\n",
    "    for i in range(1,n):\n",
    "        if n%i == 0:\n",
    "            fact = fact+1\n",
    "    if fact == 2:\n",
    "        return True\n",
    "    else:\n",
    "        return False\n",
    "n = int(input())\n",
    "isPrime(n)\n",
    "        "
   ]
  },
  {
   "cell_type": "code",
   "execution_count": 124,
   "metadata": {},
   "outputs": [
    {
     "name": "stdout",
     "output_type": "stream",
     "text": [
      "1\n",
      "10\n",
      "Sum of primenumbers  17\n",
      "number of Prime numbers in b/w 1,1000  5\n",
      "3.4\n"
     ]
    }
   ],
   "source": [
    "#Create a function to calculate the average of \n",
    "#primenumbers in between lb = 1,ub = 1000\n",
    "def primeAverage(lb,ub):\n",
    "    s = 0\n",
    "    count = 1\n",
    "    for i in range(lb,ub):\n",
    "        if isPrime(i):\n",
    "            s=s+i\n",
    "            count = count+1\n",
    "    print(\"Sum of primenumbers \",s)\n",
    "    print(\"number of Prime numbers in b/w 1,1000 \",count)\n",
    "    avg = s/count\n",
    "    print(avg)\n",
    "lb = int(input())\n",
    "ub = int(input())\n",
    "primeAverage(lb,ub)\n",
    "    \n",
    "            \n",
    "            \n",
    "    "
   ]
  },
  {
   "cell_type": "code",
   "execution_count": 125,
   "metadata": {},
   "outputs": [
    {
     "name": "stdout",
     "output_type": "stream",
     "text": [
      "5 10 20 25 40 50 "
     ]
    }
   ],
   "source": [
    "#create a function to generate all the numbers which is \n",
    "#divisible by 5 and factor of 1000 \n",
    "#in between given range(1,100)\n",
    "def generatenumbers(lb,ub):\n",
    "    for i in range(lb,ub):\n",
    "        if i%5 == 0 and 1000%i == 0:\n",
    "            print(i,end = \" \")\n",
    "lb = 1\n",
    "ub = 100\n",
    "generatenumbers(lb,ub)\n",
    "    "
   ]
  },
  {
   "cell_type": "code",
   "execution_count": null,
   "metadata": {},
   "outputs": [],
   "source": []
  }
 ],
 "metadata": {
  "kernelspec": {
   "display_name": "Python 3",
   "language": "python",
   "name": "python3"
  },
  "language_info": {
   "codemirror_mode": {
    "name": "ipython",
    "version": 3
   },
   "file_extension": ".py",
   "mimetype": "text/x-python",
   "name": "python",
   "nbconvert_exporter": "python",
   "pygments_lexer": "ipython3",
   "version": "3.7.3"
  }
 },
 "nbformat": 4,
 "nbformat_minor": 2
}
