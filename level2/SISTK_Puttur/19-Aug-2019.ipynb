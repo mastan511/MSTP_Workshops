{
 "cells": [
  {
   "cell_type": "markdown",
   "metadata": {},
   "source": [
    "### Date: 19-Aug-2019\n",
    "### DayObjectives\n",
    "* Dictionaries\n",
    "* Sets\n",
    "* Packages and Modules\n",
    "* RegularExpressions\n",
    "* Functional Programming\n",
    "    * List Comprehensions\n",
    "    * Generators\n",
    "    * Iterators\n",
    "    * Filters\n",
    "    * Maps\n",
    "    * Lambda"
   ]
  },
  {
   "cell_type": "markdown",
   "metadata": {},
   "source": [
    "### Dictionaries"
   ]
  },
  {
   "cell_type": "code",
   "execution_count": 25,
   "metadata": {},
   "outputs": [
    {
     "data": {
      "text/plain": [
       "'apssdc'"
      ]
     },
     "execution_count": 25,
     "metadata": {},
     "output_type": "execute_result"
    }
   ],
   "source": [
    "#Dictionary is a collection of hetrogenious data\n",
    "#In this Dictionary we can store the \n",
    "#data in  key value based\n",
    "\n",
    "#If you want create a dictionary by using {} these \n",
    "#braces we can create the dictionary\n",
    "# Sytanx:\n",
    "# d = {key1:value,key2:value}\n",
    "# Here Key's are must be in unique \n",
    "#don't give the duplicates\n",
    "\n",
    "d = {\"key1\":22,\"key2\":\"apssdc\",\"key3\":55.44}\n",
    "\n",
    "d[\"key2\"]#By using key we can access the elements from the dictionary\n",
    "l =list(d.items())\n",
    "l[1][1]\n"
   ]
  },
  {
   "cell_type": "code",
   "execution_count": 35,
   "metadata": {},
   "outputs": [
    {
     "data": {
      "text/plain": [
       "[22, 55.44, 78]"
      ]
     },
     "execution_count": 35,
     "metadata": {},
     "output_type": "execute_result"
    }
   ],
   "source": [
    "d = {\"key1\":22,\"key2\":78,\"key3\":55.44}\n",
    "d.values()\n",
    "d.keys()\n",
    "l = list(d.keys())\n",
    "sorted(d.values())"
   ]
  },
  {
   "cell_type": "code",
   "execution_count": 41,
   "metadata": {},
   "outputs": [
    {
     "data": {
      "text/plain": [
       "{'key1': 123, 'key2': 242}"
      ]
     },
     "execution_count": 41,
     "metadata": {},
     "output_type": "execute_result"
    }
   ],
   "source": [
    "dictionary = {}\n",
    "dictionary[\"key1\"] = 123\n",
    "dictionary[\"key2\"] = 242\n",
    "dictionary"
   ]
  },
  {
   "cell_type": "code",
   "execution_count": 43,
   "metadata": {},
   "outputs": [
    {
     "ename": "SyntaxError",
     "evalue": "invalid syntax (<ipython-input-43-5cb400cb3ec4>, line 9)",
     "output_type": "error",
     "traceback": [
      "\u001b[1;36m  File \u001b[1;32m\"<ipython-input-43-5cb400cb3ec4>\"\u001b[1;36m, line \u001b[1;32m9\u001b[0m\n\u001b[1;33m    empd = {empid:24654632,name = mastan}\u001b[0m\n\u001b[1;37m                                ^\u001b[0m\n\u001b[1;31mSyntaxError\u001b[0m\u001b[1;31m:\u001b[0m invalid syntax\n"
     ]
    }
   ],
   "source": [
    "#Create a one empty dictionary to store the \n",
    "# employee details\n",
    "# 1.emp Id\n",
    "# 2.Name\n",
    "# 3.MobileNo\n",
    "# 4.email\n",
    "# 5.disignation\n",
    "# 6.salary\n",
    "empd = {empid:24654632,name = mastan}\n",
    "# empd ={empid1:[name,mobilrno,emailid,disignation,salary]\n",
    "#       ,empid2:[name,]} \n"
   ]
  },
  {
   "cell_type": "code",
   "execution_count": 48,
   "metadata": {
    "scrolled": true
   },
   "outputs": [
    {
     "name": "stdout",
     "output_type": "stream",
     "text": [
      "Enter the employees count 2\n",
      "id 1\n",
      "name aa\n",
      "mobile 3876835\n",
      "email aa@\n",
      "disig de\n",
      "salary 64328764\n",
      "id 2\n",
      "name bb\n",
      "mobile 74936583\n",
      "email bb@\n",
      "disig te\n",
      "salary 6487365\n",
      "{'1': ['aa', '3876835', 'aa@', 'de', '64328764'], '2': ['bb', '74936583', 'bb@', 'te', '6487365']}\n"
     ]
    }
   ],
   "source": [
    "d = {}\n",
    "n = int(input(\"Enter the employees count \"))\n",
    "for i in range(n):\n",
    "    li = []\n",
    "    empid = input(\"id \")\n",
    "    name = input(\"name \")\n",
    "    mobileno = input(\"mobile \")\n",
    "    emailid = input(\"email \")\n",
    "    disig = input(\"disig \")\n",
    "    sal = input(\"salary \")\n",
    "    li.append(name)\n",
    "    li.append(mobileno)\n",
    "    li.append(emailid)\n",
    "    li.append(disig)\n",
    "    li.append(sal)\n",
    "    d[empid]=li\n",
    "print(d)\n",
    "\n",
    "    \n"
   ]
  },
  {
   "cell_type": "code",
   "execution_count": 93,
   "metadata": {
    "scrolled": true
   },
   "outputs": [
    {
     "name": "stdout",
     "output_type": "stream",
     "text": [
      "1\n"
     ]
    }
   ],
   "source": [
    "#to find the highest frequency number\n",
    "li = [1,2,3,4,1,2,6,7,1,1]\n",
    "# li.count(4)\n",
    "d = {}\n",
    "for i in li:\n",
    "    if i not in d.keys():\n",
    "        d[i]=li.count(i)\n",
    "\n",
    "# print(d) \n",
    "valueslist=list(d.values())\n",
    "valueslist\n",
    "m = max(valueslist)\n",
    "itemslist =list(d.items())\n",
    "itemslist\n",
    "for item in d.items():\n",
    "    tup = item\n",
    "    #print(tup[1])\n",
    "    if tup[1]==m:\n",
    "        print(tup[0])\n",
    "\n"
   ]
  },
  {
   "cell_type": "code",
   "execution_count": 109,
   "metadata": {
    "scrolled": true
   },
   "outputs": [
    {
     "name": "stdout",
     "output_type": "stream",
     "text": [
      "{22: 2, 44: 3, 55: 1, 66: 1, 34: 1, 54: 1}\n",
      "22\n"
     ]
    }
   ],
   "source": [
    "#To create function find the second highest frequency\n",
    "# secondHighestFreq(li):\n",
    "#li = [22,44,55,44,22,66,34,54,44]\n",
    "def secondHighestFreq(li):\n",
    "    d = {}\n",
    "    for i in li:\n",
    "        if i not in d.keys():\n",
    "            d[i] = li.count(i)\n",
    "    print(d)\n",
    "    valueslist = list(d.values())\n",
    "    valueslist = sorted(valueslist)\n",
    "    sh = valueslist[-2]\n",
    "    for item in d.items():\n",
    "        tup = item\n",
    "        if tup[1] == sh:\n",
    "            print(tup[0])\n",
    "    \n",
    "    \n",
    "li = [22,44,55,44,22,66,34,54,44]\n",
    "secondHighestFreq(li)"
   ]
  },
  {
   "cell_type": "code",
   "execution_count": 102,
   "metadata": {},
   "outputs": [
    {
     "data": {
      "text/plain": [
       "'Pyhton Programming'"
      ]
     },
     "execution_count": 102,
     "metadata": {},
     "output_type": "execute_result"
    }
   ],
   "source": [
    "#create a function to find the highest freqency character\n",
    "# s = \"Pyhton Programming\"\n",
    "# p->2\n",
    "# y->1\n",
    "# h->1\n",
    "# t->1\n",
    "# o->2\n",
    "# n->\n",
    "# r->2\n",
    "# g->2\n",
    "def highestFreqChar(s):\n",
    "    \n",
    "\n"
   ]
  },
  {
   "cell_type": "markdown",
   "metadata": {},
   "source": [
    "### Sets"
   ]
  },
  {
   "cell_type": "code",
   "execution_count": 118,
   "metadata": {},
   "outputs": [
    {
     "name": "stdout",
     "output_type": "stream",
     "text": [
      "34 b 44.5 c a "
     ]
    }
   ],
   "source": [
    "#Set is collection of hetrogenious data\n",
    "#set is mutable\n",
    "#set never accept the duplicate elements\n",
    "#Set allows only unique elements\n",
    "#declaration of set s = {}\n",
    "s = {'a','b','c',34,44.5,'a'}\n",
    "for i in s:\n",
    "    print(i,end=\" \")"
   ]
  },
  {
   "cell_type": "code",
   "execution_count": 126,
   "metadata": {},
   "outputs": [
    {
     "data": {
      "text/plain": [
       "{1, 3}"
      ]
     },
     "execution_count": 126,
     "metadata": {},
     "output_type": "execute_result"
    }
   ],
   "source": [
    "a = {1,4,3}\n",
    "b = {4,5,6}\n",
    "a.union(b)#AUB\n",
    "a.intersection(b)\n",
    "a.difference(b)\n",
    "b.difference(a)\n",
    "a-b"
   ]
  },
  {
   "cell_type": "code",
   "execution_count": 130,
   "metadata": {},
   "outputs": [
    {
     "data": {
      "text/plain": [
       "{1, 2}"
      ]
     },
     "execution_count": 130,
     "metadata": {},
     "output_type": "execute_result"
    }
   ],
   "source": [
    "temp = set()\n",
    "temp.add(1)\n",
    "temp.add(2)\n",
    "temp.add(2)\n",
    "temp"
   ]
  },
  {
   "cell_type": "code",
   "execution_count": null,
   "metadata": {},
   "outputs": [],
   "source": [
    "# Build a Contact Application in an android phone.\n",
    "# Add a number in your contact application \n",
    "# and search for that number.\n",
    "#contacts = {mastan:[6876548363,mm@gmailcom],\n",
    "# chalapathi:[6786543686,chalapthi@gmail.com]}\n",
    "    #Search a contact in the cotact list\n",
    "    #Update your contacts in contact application.\n",
    "# 1.addContact()\n",
    "# 2.searchContact\n",
    "# 3.UpdateContact\n",
    "# 4.deleteContact\n",
    "    \n",
    "\n",
    "A dictionary contains students data( keys → S.No,\n",
    "values → list of name , age ). \n",
    "Now add a new student data and \n",
    "delete one old student data. \n",
    "Print result in the format of \n",
    "“S.No : [ name , age ] “\n"
   ]
  }
 ],
 "metadata": {
  "kernelspec": {
   "display_name": "Python 3",
   "language": "python",
   "name": "python3"
  },
  "language_info": {
   "codemirror_mode": {
    "name": "ipython",
    "version": 3
   },
   "file_extension": ".py",
   "mimetype": "text/x-python",
   "name": "python",
   "nbconvert_exporter": "python",
   "pygments_lexer": "ipython3",
   "version": "3.7.3"
  }
 },
 "nbformat": 4,
 "nbformat_minor": 2
}
